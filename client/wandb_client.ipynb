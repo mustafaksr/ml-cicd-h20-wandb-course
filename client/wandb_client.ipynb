{
 "cells": [
  {
   "cell_type": "markdown",
   "id": "463d60bd-b39c-4ca5-b29a-c872f8e3ee3f",
   "metadata": {},
   "source": [
    "<img src=\"http://wandb.me/logo-im-png\" width=\"400\" alt=\"Weights & Biases\" />\n",
    "<!--- @wandbcode{course-cicd} -->"
   ]
  },
  {
   "cell_type": "code",
   "execution_count": 1,
   "id": "22050b0f-6e16-4a0c-80cc-263da4876292",
   "metadata": {},
   "outputs": [],
   "source": [
    "import os, wandb"
   ]
  },
  {
   "cell_type": "markdown",
   "id": "27702a6b-65a3-4511-83c2-fad82d2567a7",
   "metadata": {},
   "source": [
    "# W&B API for CI/CD\n",
    "\n",
    "The following are examples of operations you can perform with the `wandb` python client that might be relevant for CI/CD.\n",
    "\n",
    "Perquisite: the environment variable `WANDB_API_KEY`"
   ]
  },
  {
   "cell_type": "code",
   "execution_count": 4,
   "id": "588e92f2-4668-4275-a181-87aa71cefd84",
   "metadata": {},
   "outputs": [],
   "source": [
    "assert os.getenv('WANDB_API_KEY'), 'You must set the WANDB_API_KEY environment variable'"
   ]
  },
  {
   "cell_type": "markdown",
   "id": "fd0b1626-e001-4f05-bc02-beb48bc86d76",
   "metadata": {},
   "source": [
    "## Getting metrics tied to the current production model\n",
    "\n",
    "We can get the production model from the registry, then get the metrics via lineage from the associated run."
   ]
  },
  {
   "cell_type": "code",
   "execution_count": 5,
   "id": "7fdf6a37-dee3-4f0e-924a-cf05c7979c56",
   "metadata": {},
   "outputs": [
    {
     "name": "stderr",
     "output_type": "stream",
     "text": [
      "\u001b[34m\u001b[1mwandb\u001b[0m: Currently logged in as: \u001b[33mmustafakeser\u001b[0m. Use \u001b[1m`wandb login --relogin`\u001b[0m to force relogin\n"
     ]
    },
    {
     "data": {
      "text/html": [
       "wandb version 0.16.1 is available!  To upgrade, please run:\n",
       " $ pip install wandb --upgrade"
      ],
      "text/plain": [
       "<IPython.core.display.HTML object>"
      ]
     },
     "metadata": {},
     "output_type": "display_data"
    },
    {
     "data": {
      "text/html": [
       "Tracking run with wandb version 0.15.9"
      ],
      "text/plain": [
       "<IPython.core.display.HTML object>"
      ]
     },
     "metadata": {},
     "output_type": "display_data"
    },
    {
     "data": {
      "text/html": [
       "Run data is saved locally in <code>/media/desktop/WD/ssd/google-cloud-ml/projects/ml-cicd-h20-wandb-course/client/wandb/run-20231219_133900-qxarm8ny</code>"
      ],
      "text/plain": [
       "<IPython.core.display.HTML object>"
      ]
     },
     "metadata": {},
     "output_type": "display_data"
    },
    {
     "data": {
      "text/html": [
       "Syncing run <strong><a href='https://wandb.ai/mustafakeser/ml-cicd-h20-wandb-course-client/runs/qxarm8ny' target=\"_blank\">swept-hill-1</a></strong> to <a href='https://wandb.ai/mustafakeser/ml-cicd-h20-wandb-course-client' target=\"_blank\">Weights & Biases</a> (<a href='https://wandb.me/run' target=\"_blank\">docs</a>)<br/>"
      ],
      "text/plain": [
       "<IPython.core.display.HTML object>"
      ]
     },
     "metadata": {},
     "output_type": "display_data"
    },
    {
     "data": {
      "text/html": [
       " View project at <a href='https://wandb.ai/mustafakeser/ml-cicd-h20-wandb-course-client' target=\"_blank\">https://wandb.ai/mustafakeser/ml-cicd-h20-wandb-course-client</a>"
      ],
      "text/plain": [
       "<IPython.core.display.HTML object>"
      ]
     },
     "metadata": {},
     "output_type": "display_data"
    },
    {
     "data": {
      "text/html": [
       " View run at <a href='https://wandb.ai/mustafakeser/ml-cicd-h20-wandb-course-client/runs/qxarm8ny' target=\"_blank\">https://wandb.ai/mustafakeser/ml-cicd-h20-wandb-course-client/runs/qxarm8ny</a>"
      ],
      "text/plain": [
       "<IPython.core.display.HTML object>"
      ]
     },
     "metadata": {},
     "output_type": "display_data"
    }
   ],
   "source": [
    "run = wandb.init(job_type=\"CI/CD\")\n",
    "path = 'av-team/model-registry/'\n",
    "model_name = 'BDD Semantic Segmentation'\n",
    "version = 'production'\n",
    "\n",
    "artifact = run.use_artifact(f'{path}{model_name}:{version}', \n",
    "                            type='model')"
   ]
  },
  {
   "cell_type": "markdown",
   "id": "e86885dd-c112-4930-9dcd-abec5d8bdc5c",
   "metadata": {},
   "source": [
    "Get the run that created the model:"
   ]
  },
  {
   "cell_type": "code",
   "execution_count": 6,
   "id": "b40c2645-b132-4089-893d-ac8274382d23",
   "metadata": {},
   "outputs": [],
   "source": [
    "run = artifact.logged_by()"
   ]
  },
  {
   "cell_type": "code",
   "execution_count": 7,
   "id": "9845cf39-8617-42a9-b547-81961ebd73f8",
   "metadata": {},
   "outputs": [
    {
     "data": {
      "text/plain": [
       "{'person_iou': 0.13954558401437303,\n",
       " 'background_iou': 0.921853196957014,\n",
       " 'final_road_iou': 0.8347413133027304,\n",
       " 'final_background_iou': 0.920883500388814,\n",
       " 'final_person_iou': 0.20271520471610835,\n",
       " 'traffic_sign_iou': 0.04609753307660045,\n",
       " 'final_traffic_sign_iou': 0.05314886217585242,\n",
       " 'vehicle_iou': 0.7598675070628712,\n",
       " 'bicycle_iou': 0,\n",
       " 'final_vehicle_iou': 0.7561426671932289,\n",
       " 'traffic_light_iou': 0.1546196566812521,\n",
       " 'final_traffic_light_iou': 0.11524698900331648,\n",
       " 'road_iou': 0.8379052798838932,\n",
       " 'final_bicycle_iou': 0}"
      ]
     },
     "execution_count": 7,
     "metadata": {},
     "output_type": "execute_result"
    }
   ],
   "source": [
    "def get_iou_metrics(run):\n",
    "    return {k:v for k,v in run.summary.items() if '_iou' in k}\n",
    "\n",
    "get_iou_metrics(run)"
   ]
  },
  {
   "cell_type": "markdown",
   "id": "d84628de-23ea-4642-8ac9-b193c86768fd",
   "metadata": {},
   "source": [
    "## Getting metrics for a run ID\n",
    "\n",
    "This is useful if you want to get metrics for a particular experiment ID."
   ]
  },
  {
   "cell_type": "code",
   "execution_count": 8,
   "id": "05f28ab9-2b2f-40aa-92ed-2c7d96e2639b",
   "metadata": {},
   "outputs": [],
   "source": [
    "run_path = 'av-team/mlops-course-001/wlt1r8k7'\n",
    "api = wandb.Api()\n",
    "run = api.run(run_path)"
   ]
  },
  {
   "cell_type": "code",
   "execution_count": 9,
   "id": "860201db-b17a-45f8-9fa9-88ba385efec2",
   "metadata": {},
   "outputs": [
    {
     "data": {
      "text/plain": [
       "{'final_person_iou': 0,\n",
       " 'person_iou': 0,\n",
       " 'bicycle_iou': 0,\n",
       " 'background_iou': 0.9209043224804184,\n",
       " 'final_traffic_light_iou': 0.09025893958076447,\n",
       " 'vehicle_iou': 0.7519784886198334,\n",
       " 'traffic_sign_iou': 0.0001342732460557234,\n",
       " 'final_bicycle_iou': 0,\n",
       " 'final_background_iou': 0.9194038173285132,\n",
       " 'traffic_light_iou': 0.07797093928386092,\n",
       " 'final_vehicle_iou': 0.7519664371203332,\n",
       " 'road_iou': 0.8467596086120717,\n",
       " 'final_traffic_sign_iou': 0.00013421917992081068,\n",
       " 'final_road_iou': 0.8422501240160545}"
      ]
     },
     "execution_count": 9,
     "metadata": {},
     "output_type": "execute_result"
    }
   ],
   "source": [
    "get_iou_metrics(run)"
   ]
  },
  {
   "cell_type": "markdown",
   "id": "db442804-ce15-4cad-9e76-51cdefc37d85",
   "metadata": {},
   "source": [
    "## Getting metrics for a run with a tag\n",
    "\n",
    "It's better to use the [Mongo API](https://docs.wandb.ai/guides/track/public-api-guide#querying-multiple-runs) instead of downloading and iterating through each run if possible.\n",
    "\n",
    "The use case for this is if you wanted to compare a particular run with another run that you have tagged, such as \"baseline\"."
   ]
  },
  {
   "cell_type": "code",
   "execution_count": 10,
   "id": "23a04044-940f-49b9-a95c-2c29a7ad02f6",
   "metadata": {},
   "outputs": [],
   "source": [
    "api = wandb.Api()\n",
    "tags= ['candidate']\n",
    "\n",
    "baseline_runs=api.runs('av-team/mlops-course-001', \n",
    "                       {\"tags\": {\"$in\": tags}}) # this is the Mongo Client"
   ]
  },
  {
   "cell_type": "code",
   "execution_count": 11,
   "id": "b588a18a-6cfd-4d3f-ae85-5fa1ac6f6153",
   "metadata": {},
   "outputs": [
    {
     "name": "stdout",
     "output_type": "stream",
     "text": [
      "scarlet-armadillo-502\n",
      "fine-sweep-63\n"
     ]
    }
   ],
   "source": [
    "for run in baseline_runs:\n",
    "    print(run.name)"
   ]
  },
  {
   "cell_type": "markdown",
   "id": "1485a207-b42f-4359-906f-dec6ecda9c1a",
   "metadata": {},
   "source": [
    "## Promote a model to the registry\n",
    "\n",
    "This is also might be something you could do as part of a CI/CD process."
   ]
  },
  {
   "cell_type": "code",
   "execution_count": 12,
   "id": "321a2d50-8e65-4241-9f9c-d75b70b7fea8",
   "metadata": {},
   "outputs": [],
   "source": [
    "path = 'av-team/model-registry/BDD Semantic Segmentation'"
   ]
  },
  {
   "cell_type": "code",
   "execution_count": 13,
   "id": "a5075757-8635-469e-bd37-d43b6361f2ef",
   "metadata": {},
   "outputs": [],
   "source": [
    "run_path = 'av-team/mlops-course-001/2wpuuc70' # this is the run id\n",
    "api = wandb.Api()\n",
    "run = api.run(run_path)"
   ]
  },
  {
   "cell_type": "markdown",
   "id": "85afd436-a899-40eb-b18f-30dcbbbaf5a0",
   "metadata": {},
   "source": [
    "Get the model from the run and promote it to the registry"
   ]
  },
  {
   "cell_type": "code",
   "execution_count": 14,
   "id": "0b7e3ac0-4ff3-45a5-a3c8-b9fe30e3f9ca",
   "metadata": {
    "scrolled": true
   },
   "outputs": [
    {
     "ename": "CommError",
     "evalue": "Permission denied to access mustafakeser/ml-cicd-h20-wandb-course-client/qxarm8ny",
     "output_type": "error",
     "traceback": [
      "\u001b[0;31m---------------------------------------------------------------------------\u001b[0m",
      "\u001b[0;31mHTTPError\u001b[0m                                 Traceback (most recent call last)",
      "File \u001b[0;32m~/anaconda3/envs/transformers/lib/python3.11/site-packages/wandb/sdk/lib/retry.py:131\u001b[0m, in \u001b[0;36mRetry.__call__\u001b[0;34m(self, *args, **kwargs)\u001b[0m\n\u001b[1;32m    130\u001b[0m \u001b[38;5;28;01mtry\u001b[39;00m:\n\u001b[0;32m--> 131\u001b[0m     result \u001b[38;5;241m=\u001b[39m \u001b[38;5;28mself\u001b[39m\u001b[38;5;241m.\u001b[39m_call_fn(\u001b[38;5;241m*\u001b[39margs, \u001b[38;5;241m*\u001b[39m\u001b[38;5;241m*\u001b[39mkwargs)\n\u001b[1;32m    132\u001b[0m     \u001b[38;5;66;03m# Only print resolved attempts once every minute\u001b[39;00m\n",
      "File \u001b[0;32m~/anaconda3/envs/transformers/lib/python3.11/site-packages/wandb/apis/public.py:215\u001b[0m, in \u001b[0;36mRetryingClient.execute\u001b[0;34m(self, *args, **kwargs)\u001b[0m\n\u001b[1;32m    214\u001b[0m \u001b[38;5;28;01mtry\u001b[39;00m:\n\u001b[0;32m--> 215\u001b[0m     \u001b[38;5;28;01mreturn\u001b[39;00m \u001b[38;5;28mself\u001b[39m\u001b[38;5;241m.\u001b[39m_client\u001b[38;5;241m.\u001b[39mexecute(\u001b[38;5;241m*\u001b[39margs, \u001b[38;5;241m*\u001b[39m\u001b[38;5;241m*\u001b[39mkwargs)\n\u001b[1;32m    216\u001b[0m \u001b[38;5;28;01mexcept\u001b[39;00m requests\u001b[38;5;241m.\u001b[39mexceptions\u001b[38;5;241m.\u001b[39mReadTimeout:\n",
      "File \u001b[0;32m~/anaconda3/envs/transformers/lib/python3.11/site-packages/wandb/vendor/gql-0.2.0/wandb_gql/client.py:52\u001b[0m, in \u001b[0;36mClient.execute\u001b[0;34m(self, document, *args, **kwargs)\u001b[0m\n\u001b[1;32m     50\u001b[0m     \u001b[38;5;28mself\u001b[39m\u001b[38;5;241m.\u001b[39mvalidate(document)\n\u001b[0;32m---> 52\u001b[0m result \u001b[38;5;241m=\u001b[39m \u001b[38;5;28mself\u001b[39m\u001b[38;5;241m.\u001b[39m_get_result(document, \u001b[38;5;241m*\u001b[39margs, \u001b[38;5;241m*\u001b[39m\u001b[38;5;241m*\u001b[39mkwargs)\n\u001b[1;32m     53\u001b[0m \u001b[38;5;28;01mif\u001b[39;00m result\u001b[38;5;241m.\u001b[39merrors:\n",
      "File \u001b[0;32m~/anaconda3/envs/transformers/lib/python3.11/site-packages/wandb/vendor/gql-0.2.0/wandb_gql/client.py:60\u001b[0m, in \u001b[0;36mClient._get_result\u001b[0;34m(self, document, *args, **kwargs)\u001b[0m\n\u001b[1;32m     59\u001b[0m \u001b[38;5;28;01mif\u001b[39;00m \u001b[38;5;129;01mnot\u001b[39;00m \u001b[38;5;28mself\u001b[39m\u001b[38;5;241m.\u001b[39mretries:\n\u001b[0;32m---> 60\u001b[0m     \u001b[38;5;28;01mreturn\u001b[39;00m \u001b[38;5;28mself\u001b[39m\u001b[38;5;241m.\u001b[39mtransport\u001b[38;5;241m.\u001b[39mexecute(document, \u001b[38;5;241m*\u001b[39margs, \u001b[38;5;241m*\u001b[39m\u001b[38;5;241m*\u001b[39mkwargs)\n\u001b[1;32m     62\u001b[0m last_exception \u001b[38;5;241m=\u001b[39m \u001b[38;5;28;01mNone\u001b[39;00m\n",
      "File \u001b[0;32m~/anaconda3/envs/transformers/lib/python3.11/site-packages/wandb/sdk/lib/gql_request.py:56\u001b[0m, in \u001b[0;36mGraphQLSession.execute\u001b[0;34m(self, document, variable_values, timeout)\u001b[0m\n\u001b[1;32m     55\u001b[0m request \u001b[38;5;241m=\u001b[39m \u001b[38;5;28mself\u001b[39m\u001b[38;5;241m.\u001b[39msession\u001b[38;5;241m.\u001b[39mpost(\u001b[38;5;28mself\u001b[39m\u001b[38;5;241m.\u001b[39murl, \u001b[38;5;241m*\u001b[39m\u001b[38;5;241m*\u001b[39mpost_args)\n\u001b[0;32m---> 56\u001b[0m request\u001b[38;5;241m.\u001b[39mraise_for_status()\n\u001b[1;32m     58\u001b[0m result \u001b[38;5;241m=\u001b[39m request\u001b[38;5;241m.\u001b[39mjson()\n",
      "File \u001b[0;32m~/anaconda3/envs/transformers/lib/python3.11/site-packages/requests/models.py:1021\u001b[0m, in \u001b[0;36mResponse.raise_for_status\u001b[0;34m(self)\u001b[0m\n\u001b[1;32m   1020\u001b[0m \u001b[38;5;28;01mif\u001b[39;00m http_error_msg:\n\u001b[0;32m-> 1021\u001b[0m     \u001b[38;5;28;01mraise\u001b[39;00m HTTPError(http_error_msg, response\u001b[38;5;241m=\u001b[39m\u001b[38;5;28mself\u001b[39m)\n",
      "\u001b[0;31mHTTPError\u001b[0m: 404 Client Error: Not Found for url: https://api.wandb.ai/graphql",
      "\nDuring handling of the above exception, another exception occurred:\n",
      "\u001b[0;31mCommError\u001b[0m                                 Traceback (most recent call last)",
      "Cell \u001b[0;32mIn[14], line 5\u001b[0m\n\u001b[1;32m      3\u001b[0m \u001b[38;5;28;01mif\u001b[39;00m art:\n\u001b[1;32m      4\u001b[0m     \u001b[38;5;28;01massert\u001b[39;00m \u001b[38;5;28mlen\u001b[39m(art) \u001b[38;5;241m==\u001b[39m \u001b[38;5;241m1\u001b[39m, \u001b[38;5;124m'\u001b[39m\u001b[38;5;124mMore then 1 artifact of type model!\u001b[39m\u001b[38;5;124m'\u001b[39m\n\u001b[0;32m----> 5\u001b[0m     art[\u001b[38;5;241m0\u001b[39m]\u001b[38;5;241m.\u001b[39mlink(path, aliases\u001b[38;5;241m=\u001b[39m[\u001b[38;5;124m'\u001b[39m\u001b[38;5;124mnew-model-demo\u001b[39m\u001b[38;5;124m'\u001b[39m])\n",
      "File \u001b[0;32m~/anaconda3/envs/transformers/lib/python3.11/site-packages/wandb/sdk/artifacts/artifact.py:1897\u001b[0m, in \u001b[0;36mArtifact.link\u001b[0;34m(self, target_path, aliases)\u001b[0m\n\u001b[1;32m   1895\u001b[0m \u001b[38;5;28;01mif\u001b[39;00m \u001b[38;5;28mself\u001b[39m\u001b[38;5;241m.\u001b[39m_state \u001b[38;5;241m==\u001b[39m ArtifactState\u001b[38;5;241m.\u001b[39mPENDING:\n\u001b[1;32m   1896\u001b[0m     \u001b[38;5;28;01mraise\u001b[39;00m ArtifactNotLoggedError(\u001b[38;5;28mself\u001b[39m, \u001b[38;5;124m\"\u001b[39m\u001b[38;5;124mlink\u001b[39m\u001b[38;5;124m\"\u001b[39m)\n\u001b[0;32m-> 1897\u001b[0m \u001b[38;5;28mself\u001b[39m\u001b[38;5;241m.\u001b[39m_link(target_path, aliases)\n",
      "File \u001b[0;32m~/anaconda3/envs/transformers/lib/python3.11/site-packages/wandb/apis/normalize.py:73\u001b[0m, in \u001b[0;36mnormalize_exceptions.<locals>.wrapper\u001b[0;34m(*args, **kwargs)\u001b[0m\n\u001b[1;32m     69\u001b[0m         \u001b[38;5;28;01mraise\u001b[39;00m CommError(message, err\u001b[38;5;241m.\u001b[39mlast_exception)\u001b[38;5;241m.\u001b[39mwith_traceback(\n\u001b[1;32m     70\u001b[0m             sys\u001b[38;5;241m.\u001b[39mexc_info()[\u001b[38;5;241m2\u001b[39m]\n\u001b[1;32m     71\u001b[0m         )\n\u001b[1;32m     72\u001b[0m \u001b[38;5;28;01mexcept\u001b[39;00m Error \u001b[38;5;28;01mas\u001b[39;00m err:\n\u001b[0;32m---> 73\u001b[0m     \u001b[38;5;28;01mraise\u001b[39;00m err\n\u001b[1;32m     74\u001b[0m \u001b[38;5;28;01mexcept\u001b[39;00m \u001b[38;5;167;01mException\u001b[39;00m \u001b[38;5;28;01mas\u001b[39;00m err:\n\u001b[1;32m     75\u001b[0m     \u001b[38;5;66;03m# gql raises server errors with dict's as strings...\u001b[39;00m\n\u001b[1;32m     76\u001b[0m     \u001b[38;5;28;01mif\u001b[39;00m \u001b[38;5;28mlen\u001b[39m(err\u001b[38;5;241m.\u001b[39margs) \u001b[38;5;241m>\u001b[39m \u001b[38;5;241m0\u001b[39m:\n",
      "File \u001b[0;32m~/anaconda3/envs/transformers/lib/python3.11/site-packages/wandb/apis/normalize.py:41\u001b[0m, in \u001b[0;36mnormalize_exceptions.<locals>.wrapper\u001b[0;34m(*args, **kwargs)\u001b[0m\n\u001b[1;32m     39\u001b[0m message \u001b[38;5;241m=\u001b[39m \u001b[38;5;124m\"\u001b[39m\u001b[38;5;124mWhoa, you found a bug.\u001b[39m\u001b[38;5;124m\"\u001b[39m\n\u001b[1;32m     40\u001b[0m \u001b[38;5;28;01mtry\u001b[39;00m:\n\u001b[0;32m---> 41\u001b[0m     \u001b[38;5;28;01mreturn\u001b[39;00m func(\u001b[38;5;241m*\u001b[39margs, \u001b[38;5;241m*\u001b[39m\u001b[38;5;241m*\u001b[39mkwargs)\n\u001b[1;32m     42\u001b[0m \u001b[38;5;28;01mexcept\u001b[39;00m requests\u001b[38;5;241m.\u001b[39mHTTPError \u001b[38;5;28;01mas\u001b[39;00m error:\n\u001b[1;32m     43\u001b[0m     errors \u001b[38;5;241m=\u001b[39m parse_backend_error_messages(error\u001b[38;5;241m.\u001b[39mresponse)\n",
      "File \u001b[0;32m~/anaconda3/envs/transformers/lib/python3.11/site-packages/wandb/sdk/artifacts/artifact.py:1939\u001b[0m, in \u001b[0;36mArtifact._link\u001b[0;34m(self, target_path, aliases)\u001b[0m\n\u001b[1;32m   1915\u001b[0m mutation \u001b[38;5;241m=\u001b[39m gql(\n\u001b[1;32m   1916\u001b[0m \u001b[38;5;250m    \u001b[39m\u001b[38;5;124;03m\"\"\"\u001b[39;00m\n\u001b[1;32m   1917\u001b[0m \u001b[38;5;124;03m    mutation LinkArtifact(\u001b[39;00m\n\u001b[0;32m   (...)\u001b[0m\n\u001b[1;32m   1936\u001b[0m \u001b[38;5;124;03m    \"\"\"\u001b[39;00m\n\u001b[1;32m   1937\u001b[0m )\n\u001b[1;32m   1938\u001b[0m \u001b[38;5;28;01massert\u001b[39;00m \u001b[38;5;28mself\u001b[39m\u001b[38;5;241m.\u001b[39m_client \u001b[38;5;129;01mis\u001b[39;00m \u001b[38;5;129;01mnot\u001b[39;00m \u001b[38;5;28;01mNone\u001b[39;00m\n\u001b[0;32m-> 1939\u001b[0m \u001b[38;5;28mself\u001b[39m\u001b[38;5;241m.\u001b[39m_client\u001b[38;5;241m.\u001b[39mexecute(\n\u001b[1;32m   1940\u001b[0m     mutation,\n\u001b[1;32m   1941\u001b[0m     variable_values\u001b[38;5;241m=\u001b[39m{\n\u001b[1;32m   1942\u001b[0m         \u001b[38;5;124m\"\u001b[39m\u001b[38;5;124martifactID\u001b[39m\u001b[38;5;124m\"\u001b[39m: \u001b[38;5;28mself\u001b[39m\u001b[38;5;241m.\u001b[39mid,\n\u001b[1;32m   1943\u001b[0m         \u001b[38;5;124m\"\u001b[39m\u001b[38;5;124martifactPortfolioName\u001b[39m\u001b[38;5;124m\"\u001b[39m: portfolio,\n\u001b[1;32m   1944\u001b[0m         \u001b[38;5;124m\"\u001b[39m\u001b[38;5;124mentityName\u001b[39m\u001b[38;5;124m\"\u001b[39m: entity,\n\u001b[1;32m   1945\u001b[0m         \u001b[38;5;124m\"\u001b[39m\u001b[38;5;124mprojectName\u001b[39m\u001b[38;5;124m\"\u001b[39m: project,\n\u001b[1;32m   1946\u001b[0m         \u001b[38;5;124m\"\u001b[39m\u001b[38;5;124maliases\u001b[39m\u001b[38;5;124m\"\u001b[39m: [\n\u001b[1;32m   1947\u001b[0m             {\u001b[38;5;124m\"\u001b[39m\u001b[38;5;124malias\u001b[39m\u001b[38;5;124m\"\u001b[39m: alias, \u001b[38;5;124m\"\u001b[39m\u001b[38;5;124martifactCollectionName\u001b[39m\u001b[38;5;124m\"\u001b[39m: portfolio}\n\u001b[1;32m   1948\u001b[0m             \u001b[38;5;28;01mfor\u001b[39;00m alias \u001b[38;5;129;01min\u001b[39;00m aliases\n\u001b[1;32m   1949\u001b[0m         ],\n\u001b[1;32m   1950\u001b[0m     },\n\u001b[1;32m   1951\u001b[0m )\n",
      "File \u001b[0;32m~/anaconda3/envs/transformers/lib/python3.11/site-packages/wandb/sdk/lib/retry.py:212\u001b[0m, in \u001b[0;36mretriable.<locals>.decorator.<locals>.wrapped_fn\u001b[0;34m(*args, **kargs)\u001b[0m\n\u001b[1;32m    210\u001b[0m \u001b[38;5;129m@functools\u001b[39m\u001b[38;5;241m.\u001b[39mwraps(fn)\n\u001b[1;32m    211\u001b[0m \u001b[38;5;28;01mdef\u001b[39;00m \u001b[38;5;21mwrapped_fn\u001b[39m(\u001b[38;5;241m*\u001b[39margs: Any, \u001b[38;5;241m*\u001b[39m\u001b[38;5;241m*\u001b[39mkargs: Any) \u001b[38;5;241m-\u001b[39m\u001b[38;5;241m>\u001b[39m Any:\n\u001b[0;32m--> 212\u001b[0m     \u001b[38;5;28;01mreturn\u001b[39;00m retrier(\u001b[38;5;241m*\u001b[39margs, \u001b[38;5;241m*\u001b[39m\u001b[38;5;241m*\u001b[39mkargs)\n",
      "File \u001b[0;32m~/anaconda3/envs/transformers/lib/python3.11/site-packages/wandb/sdk/lib/retry.py:147\u001b[0m, in \u001b[0;36mRetry.__call__\u001b[0;34m(self, *args, **kwargs)\u001b[0m\n\u001b[1;32m    144\u001b[0m     \u001b[38;5;28;01mreturn\u001b[39;00m result\n\u001b[1;32m    145\u001b[0m \u001b[38;5;28;01mexcept\u001b[39;00m \u001b[38;5;28mself\u001b[39m\u001b[38;5;241m.\u001b[39m_retryable_exceptions \u001b[38;5;28;01mas\u001b[39;00m e:\n\u001b[1;32m    146\u001b[0m     \u001b[38;5;66;03m# if the secondary check fails, re-raise\u001b[39;00m\n\u001b[0;32m--> 147\u001b[0m     retry_timedelta_triggered \u001b[38;5;241m=\u001b[39m check_retry_fn(e)\n\u001b[1;32m    148\u001b[0m     \u001b[38;5;28;01mif\u001b[39;00m \u001b[38;5;129;01mnot\u001b[39;00m retry_timedelta_triggered:\n\u001b[1;32m    149\u001b[0m         \u001b[38;5;28;01mraise\u001b[39;00m\n",
      "File \u001b[0;32m~/anaconda3/envs/transformers/lib/python3.11/site-packages/wandb/util.py:896\u001b[0m, in \u001b[0;36mno_retry_auth\u001b[0;34m(e)\u001b[0m\n\u001b[1;32m    887\u001b[0m     \u001b[38;5;28;01mraise\u001b[39;00m AuthenticationError(\n\u001b[1;32m    888\u001b[0m         \u001b[38;5;124m\"\u001b[39m\u001b[38;5;124mThe API key you provided is either invalid or missing.  \u001b[39m\u001b[38;5;124m\"\u001b[39m\n\u001b[1;32m    889\u001b[0m         \u001b[38;5;124mf\u001b[39m\u001b[38;5;124m\"\u001b[39m\u001b[38;5;124mIf the `\u001b[39m\u001b[38;5;132;01m{\u001b[39;00mwandb\u001b[38;5;241m.\u001b[39menv\u001b[38;5;241m.\u001b[39mAPI_KEY\u001b[38;5;132;01m}\u001b[39;00m\u001b[38;5;124m` environment variable is set, make sure it is correct. \u001b[39m\u001b[38;5;124m\"\u001b[39m\n\u001b[0;32m   (...)\u001b[0m\n\u001b[1;32m    893\u001b[0m         \u001b[38;5;124mf\u001b[39m\u001b[38;5;124m\"\u001b[39m\u001b[38;5;124m(Error \u001b[39m\u001b[38;5;132;01m{\u001b[39;00me\u001b[38;5;241m.\u001b[39mresponse\u001b[38;5;241m.\u001b[39mstatus_code\u001b[38;5;132;01m}\u001b[39;00m\u001b[38;5;124m: \u001b[39m\u001b[38;5;132;01m{\u001b[39;00me\u001b[38;5;241m.\u001b[39mresponse\u001b[38;5;241m.\u001b[39mreason\u001b[38;5;132;01m}\u001b[39;00m\u001b[38;5;124m)\u001b[39m\u001b[38;5;124m\"\u001b[39m\n\u001b[1;32m    894\u001b[0m     )\n\u001b[1;32m    895\u001b[0m \u001b[38;5;28;01melif\u001b[39;00m wandb\u001b[38;5;241m.\u001b[39mrun:\n\u001b[0;32m--> 896\u001b[0m     \u001b[38;5;28;01mraise\u001b[39;00m CommError(\u001b[38;5;124mf\u001b[39m\u001b[38;5;124m\"\u001b[39m\u001b[38;5;124mPermission denied to access \u001b[39m\u001b[38;5;132;01m{\u001b[39;00mwandb\u001b[38;5;241m.\u001b[39mrun\u001b[38;5;241m.\u001b[39mpath\u001b[38;5;132;01m}\u001b[39;00m\u001b[38;5;124m\"\u001b[39m)\n\u001b[1;32m    897\u001b[0m \u001b[38;5;28;01melse\u001b[39;00m:\n\u001b[1;32m    898\u001b[0m     \u001b[38;5;28;01mraise\u001b[39;00m CommError(\n\u001b[1;32m    899\u001b[0m         \u001b[38;5;124m\"\u001b[39m\u001b[38;5;124mIt appears that you do not have permission to access the requested resource. \u001b[39m\u001b[38;5;124m\"\u001b[39m\n\u001b[1;32m    900\u001b[0m         \u001b[38;5;124m\"\u001b[39m\u001b[38;5;124mPlease reach out to the project owner to grant you access. \u001b[39m\u001b[38;5;124m\"\u001b[39m\n\u001b[1;32m    901\u001b[0m         \u001b[38;5;124m\"\u001b[39m\u001b[38;5;124mIf you have the correct permissions, verify that there are no issues with your networking setup.\u001b[39m\u001b[38;5;124m\"\u001b[39m\n\u001b[1;32m    902\u001b[0m         \u001b[38;5;124mf\u001b[39m\u001b[38;5;124m\"\u001b[39m\u001b[38;5;124m(Error \u001b[39m\u001b[38;5;132;01m{\u001b[39;00me\u001b[38;5;241m.\u001b[39mresponse\u001b[38;5;241m.\u001b[39mstatus_code\u001b[38;5;132;01m}\u001b[39;00m\u001b[38;5;124m: \u001b[39m\u001b[38;5;132;01m{\u001b[39;00me\u001b[38;5;241m.\u001b[39mresponse\u001b[38;5;241m.\u001b[39mreason\u001b[38;5;132;01m}\u001b[39;00m\u001b[38;5;124m)\u001b[39m\u001b[38;5;124m\"\u001b[39m\n\u001b[1;32m    903\u001b[0m     )\n",
      "\u001b[0;31mCommError\u001b[0m: Permission denied to access mustafakeser/ml-cicd-h20-wandb-course-client/qxarm8ny"
     ]
    }
   ],
   "source": [
    "art = [a for a in run.logged_artifacts() if a.type == 'model']\n",
    "\n",
    "if art:\n",
    "    assert len(art) == 1, 'More then 1 artifact of type model!'\n",
    "    art[0].link(path, aliases=['new-model-demo'])"
   ]
  },
  {
   "cell_type": "markdown",
   "id": "a03e85e0-2a88-48d5-b712-99c0fcf5c415",
   "metadata": {},
   "source": [
    "We can see a model in the registry like this:"
   ]
  },
  {
   "cell_type": "code",
   "execution_count": 15,
   "id": "bac95585-02ef-4243-a1fc-f898d4c478a9",
   "metadata": {},
   "outputs": [],
   "source": [
    "versions = api.artifact_versions('model', path)"
   ]
  },
  {
   "cell_type": "code",
   "execution_count": 16,
   "id": "30da5501-6dea-4fe0-96df-1a21af14964c",
   "metadata": {},
   "outputs": [
    {
     "name": "stdout",
     "output_type": "stream",
     "text": [
      "Model version: v3 with tags: ['latest', 'production candidate', 'new-model-demo', 'december']\n",
      "Model version: v2 with tags: ['prod candidate', 'demo']\n",
      "Model version: v1 with tags: ['staging', 'production']\n",
      "Model version: v0 with tags: []\n"
     ]
    }
   ],
   "source": [
    "for v in versions:\n",
    "    print(f'Model version: {v.version} with tags: {v.aliases}')"
   ]
  },
  {
   "cell_type": "markdown",
   "id": "80af424f-b6dd-4e19-932d-83630787a827",
   "metadata": {},
   "source": [
    "See the URL for the model registry:"
   ]
  },
  {
   "cell_type": "code",
   "execution_count": 17,
   "id": "49f29e3e-4fad-4999-b31a-26b31555da41",
   "metadata": {},
   "outputs": [],
   "source": [
    "latest_model = versions[0]"
   ]
  },
  {
   "cell_type": "code",
   "execution_count": 18,
   "id": "a6e2cb6a-8fe9-4f58-a9b5-86d49ee4bbc2",
   "metadata": {},
   "outputs": [],
   "source": [
    "# https://wandb.ai/av-team/registry/model?selectionPath=av-team%2Fmodel-registry%2FBDD+Semantic+Segmentation&version=v3"
   ]
  },
  {
   "cell_type": "code",
   "execution_count": 19,
   "id": "68dcf14d-9ca1-4e5b-a774-06595a995fa3",
   "metadata": {},
   "outputs": [
    {
     "data": {
      "text/plain": [
       "'https://wandb.ai/av-team/registry/model?selectionPath=av-team%2Fmodel-registry%2FBDD+Semantic+Segmentation&version=v3'"
      ]
     },
     "execution_count": 19,
     "metadata": {},
     "output_type": "execute_result"
    }
   ],
   "source": [
    "from urllib.parse import urlencode\n",
    "query = urlencode({'selectionPath': path, 'version': latest_model.version})\n",
    "registry_url = f'https://wandb.ai/{latest_model.entity}/registry/model?{query}'\n",
    "registry_url"
   ]
  },
  {
   "cell_type": "markdown",
   "id": "e9df6a41-a71b-4c76-aa03-b904ec8431e2",
   "metadata": {},
   "source": [
    "## Run Comparison\n",
    "\n",
    "[This notebook](https://colab.research.google.com/github/wandb/examples/blob/master/colabs/intro/Report_API_Quickstart.ipynb#scrollTo=C3KKJGepCVW4) documents how to use the wandb python client to create a report.  [These docs](https://docs.wandb.ai/guides/reports) describe how to [create](https://docs.wandb.ai/guides/reports/create-a-report) and [edit](https://docs.wandb.ai/guides/reports/edit-a-report) a report.  Make sure you click on the `Python SDK` tab on any "
   ]
  },
  {
   "cell_type": "code",
   "execution_count": 20,
   "id": "c6c4909f-a551-4377-8028-13a12c499b17",
   "metadata": {},
   "outputs": [
    {
     "name": "stderr",
     "output_type": "stream",
     "text": [
      "\u001b[34m\u001b[1mwandb\u001b[0m: Thanks for trying out the Report API!\n",
      "\u001b[34m\u001b[1mwandb\u001b[0m: For a tutorial, check out https://colab.research.google.com/drive/1CzyJx1nuOS4pdkXa2XPaRQyZdmFmLmXV\n",
      "\u001b[34m\u001b[1mwandb\u001b[0m: \n",
      "\u001b[34m\u001b[1mwandb\u001b[0m: Try out tab completion to see what's available.\n",
      "\u001b[34m\u001b[1mwandb\u001b[0m:   ∟ everything:    `wr.<tab>`\n",
      "\u001b[34m\u001b[1mwandb\u001b[0m:       ∟ panels:    `wr.panels.<tab>`\n",
      "\u001b[34m\u001b[1mwandb\u001b[0m:       ∟ blocks:    `wr.blocks.<tab>`\n",
      "\u001b[34m\u001b[1mwandb\u001b[0m:       ∟ helpers:   `wr.helpers.<tab>`\n",
      "\u001b[34m\u001b[1mwandb\u001b[0m:       ∟ templates: `wr.templates.<tab>`\n",
      "\u001b[34m\u001b[1mwandb\u001b[0m:       \n",
      "\u001b[34m\u001b[1mwandb\u001b[0m: For bugs/feature requests, please create an issue on github: https://github.com/wandb/wandb/issues\n"
     ]
    }
   ],
   "source": [
    "import wandb\n",
    "import wandb.apis.reports as wr"
   ]
  },
  {
   "cell_type": "code",
   "execution_count": 32,
   "id": "ff6d1211-81e1-4358-a7c7-a5f19efbe6db",
   "metadata": {},
   "outputs": [],
   "source": [
    "PROJECT = 'cicd-quickstart'\n",
    "ENTITY = None\n",
    "\n",
    "report = wr.Report(\n",
    "    entity=ENTITY,\n",
    "    project=PROJECT,\n",
    "    title='Compare Runs',\n",
    "    description=\"A demo of comparing runs programatically\"\n",
    ")  "
   ]
  },
  {
   "cell_type": "markdown",
   "id": "28117643-573f-4b82-b10a-4cdaebf193e9",
   "metadata": {},
   "source": [
    "We can compare two runs like so, and save the report.  In a Jupyter notebook, a preview of the report will automatically appear:"
   ]
  },
  {
   "cell_type": "code",
   "execution_count": 33,
   "id": "9ed2f943-39a2-475a-a110-1c5471abec00",
   "metadata": {},
   "outputs": [
    {
     "data": {
      "text/html": [
       "<iframe src='https://wandb.ai/mustafakeser/cicd-quickstart/reports/Compare-Runs--Vmlldzo2MzAxMDU3?jupyter=true' style='border:none;width:100%;height:1024px;'></iframe>"
      ],
      "text/plain": [
       "Report(project='cicd-quickstart', entity='mustafakeser', title='Compare Runs', description='A demo of comparing runs programatically', width='readable', blocks=[PanelGrid(runsets=[Runset(entity='mustafakeser', project='cicd-quickstart', name='Run Comparison', query='', filters={'$or': [{'$and': [{'displayName': {'$in': ['bountiful-badger-2', 'dastardly-duck-4']}}]}]}, order=['-CreatedTimestamp'])], panels=[RunComparer(diff_only='split')])])"
      ]
     },
     "execution_count": 33,
     "metadata": {},
     "output_type": "execute_result"
    }
   ],
   "source": [
    "pg = wr.PanelGrid(\n",
    "    runsets=[\n",
    "        wr.Runset(ENTITY, PROJECT, \"Run Comparison\").set_filters_with_python_expr(\"Name in ['bountiful-badger-2', 'dastardly-duck-4']\")\n",
    "    ],\n",
    "    panels=[\n",
    "        wr.RunComparer(diff_only='split', layout={'w': 24, 'h': 15}),\n",
    "    ]\n",
    ")\n",
    "\n",
    "report.blocks = report.blocks[:1] + [pg] + report.blocks[1:]\n",
    "report.save()"
   ]
  },
  {
   "cell_type": "code",
   "execution_count": 34,
   "id": "0bb8dc24-03d4-4674-a9fd-ba649ec9e235",
   "metadata": {},
   "outputs": [
    {
     "data": {
      "text/plain": [
       "'https://wandb.ai/mustafakeser/cicd-quickstart/reports/Compare-Runs--Vmlldzo2MzAxMDU3'"
      ]
     },
     "execution_count": 34,
     "metadata": {},
     "output_type": "execute_result"
    }
   ],
   "source": [
    "report.url"
   ]
  },
  {
   "cell_type": "code",
   "execution_count": null,
   "id": "a7198e8f-323c-41f2-9134-25022269903e",
   "metadata": {},
   "outputs": [],
   "source": []
  }
 ],
 "metadata": {
  "kernelspec": {
   "display_name": "Python 3 (ipykernel)",
   "language": "python",
   "name": "python3"
  },
  "language_info": {
   "codemirror_mode": {
    "name": "ipython",
    "version": 3
   },
   "file_extension": ".py",
   "mimetype": "text/x-python",
   "name": "python",
   "nbconvert_exporter": "python",
   "pygments_lexer": "ipython3",
   "version": "3.11.5"
  }
 },
 "nbformat": 4,
 "nbformat_minor": 5
}
